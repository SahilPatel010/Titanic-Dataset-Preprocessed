{
 "cells": [
  {
   "cell_type": "code",
   "execution_count": null,
   "id": "974a1a66-109f-4ef9-8878-cd5d26d753d0",
   "metadata": {},
   "outputs": [],
   "source": []
  }
 ],
 "metadata": {
  "kernelspec": {
   "display_name": "",
   "name": ""
  },
  "language_info": {
   "name": ""
  }
 },
 "nbformat": 4,
 "nbformat_minor": 5
}
